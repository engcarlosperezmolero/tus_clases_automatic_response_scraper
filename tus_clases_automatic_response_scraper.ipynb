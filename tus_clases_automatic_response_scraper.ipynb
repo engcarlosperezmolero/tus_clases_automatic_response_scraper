{
  "nbformat": 4,
  "nbformat_minor": 0,
  "metadata": {
    "colab": {
      "name": "tus_clases_automatic_response_scraper.ipynb",
      "provenance": [],
      "collapsed_sections": [],
      "authorship_tag": "ABX9TyOmGGzTXw6imF4poJ1yjxIN",
      "include_colab_link": true
    },
    "kernelspec": {
      "name": "python3",
      "display_name": "Python 3"
    },
    "language_info": {
      "name": "python"
    }
  },
  "cells": [
    {
      "cell_type": "markdown",
      "metadata": {
        "id": "view-in-github",
        "colab_type": "text"
      },
      "source": [
        "<a href=\"https://colab.research.google.com/github/engcarlosperezmolero/tus_clases_automatic_response_scraper/blob/main/tus_clases_automatic_response_scraper.ipynb\" target=\"_parent\"><img src=\"https://colab.research.google.com/assets/colab-badge.svg\" alt=\"Open In Colab\"/></a>"
      ]
    },
    {
      "cell_type": "code",
      "execution_count": null,
      "metadata": {
        "id": "oN-9-YHFua56"
      },
      "outputs": [],
      "source": [
        "!pip install selenium\n",
        "!apt-get update \n",
        "!apt install chromium-chromedriver\n",
        "\n",
        "from google.colab import drive\n",
        "drive.mount('/content/drive')\n",
        "\n",
        "import sys\n",
        "sys.path.insert(0,'/usr/lib/chromium-browser/chromedriver')\n",
        "sys.path.insert(0,'/content/drive/My Drive/credentials')\n",
        "\n",
        "from tusclases_secrets import credentials # in drive I've created a folder called credentials with a file called tusclases_secrets.py inside.\n",
        "\n",
        "from selenium import webdriver\n",
        "from selenium.webdriver.support.ui import Select\n",
        "from selenium.webdriver.common.keys import Keys\n",
        "from selenium.webdriver.support.ui import WebDriverWait \n",
        "from selenium.webdriver.common.by import By\n",
        "from selenium.webdriver.support import expected_conditions as EC\n",
        "from selenium.common.exceptions import NoSuchElementException, ElementClickInterceptedException\n",
        "import time\n",
        "\n",
        "options = webdriver.ChromeOptions() # Usamos chrome, se podria usar otro.\n",
        "options.add_argument('--headless') # Chromium sin interfaz grafica\n",
        "options.add_argument('--no-sandbox') # Seguridad\n",
        "options.add_argument('--disable-dev-shm-usage') # configuracion de linux\n",
        "options.add_argument('--user-agent=\"\"Mozilla/5.0 (Windows NT 10.0; Win64; x64) AppleWebKit/537.36 (KHTML, like Gecko) Chrome/74.0.3729.157 Safari/537.36\"\"') # user agent\n",
        "\n",
        "driver = webdriver.Chrome('chromedriver', options=options)"
      ]
    },
    {
      "cell_type": "code",
      "source": [
        "cuerpo_mensaje_automatizado = \"Hola, este es un mensaje automatizado. En caso de que necesites una respuesta inmediata me puedes escribir a mi WhatsApp: +5491122510584\"\n",
        "driver.get(\"https://www.tusclases.com.ar/area-profesores/messaging\")\n",
        "time.sleep(2)\n",
        "driver.set_window_size(4096, 2160)\n",
        "driver.save_screenshot(\"screenshot_tusclases_0.png\")\n",
        "try:\n",
        "    input_email = driver.find_element(by=By.XPATH, value=\"/html/body/div[2]/form/div[3]/div/div/div/div[2]/div[2]/div[1]/div[2]/div/div/div[1]/input\")\n",
        "    input_password = driver.find_element(by=By.XPATH, value=\"/html/body/div[2]/form/div[3]/div/div/div/div[2]/div[2]/div[1]/div[2]/div/div/div[2]/input\")\n",
        "    input_email.send_keys(credentials.tus_clases_user)\n",
        "    input_password.send_keys(credentials.tus_clases_password + Keys.ENTER)\n",
        "    time.sleep(2)\n",
        "    driver.save_screenshot(\"screenshot_tusclases_1.png\")\n",
        "\n",
        "except NoSuchElementException as e:\n",
        "    print(e)\n",
        "finally:\n",
        "    mensajes_no_leidos = driver.find_elements(by=By.XPATH, value=\"/html/body/div[2]/form/div[3]/div/div/div/div[1]/div[3]/*[@class='rc unread']\")\n",
        "    mensajes = driver.find_elements(by=By.XPATH, value=\"/html/body/div[2]/form/div[3]/div/div/div/div[1]/div[3]/*[contains(@class, 'rc')]\")\n",
        "\n",
        "    if len(mensajes_no_leidos) == 0:\n",
        "        for num_mensaje, mensaje in enumerate(mensajes):\n",
        "            # solo itera los 5 primeros mensajes\n",
        "            if num_mensaje == 5:\n",
        "                break\n",
        "                \n",
        "            mensaje.click()\n",
        "            time.sleep(2)\n",
        "            mensajes_enviados_por_mi = driver.find_elements(by=By.XPATH, value=\"/html/body/div[2]/form/div[3]/div/div/div/div[2]/div[3]/*[contains(@class, 'conb me')]/*[@class='lin']\")\n",
        "            texto_total_enviado = \" | \".join([mensaje.get_attribute(\"innerHTML\") for mensaje in mensajes_enviados_por_mi])\n",
        "\n",
        "            if len(mensajes_enviados_por_mi) == 0 or \"+5491122510584\" not in texto_total_enviado:\n",
        "                text_area = driver.find_element(by=By.XPATH, value=\"/html/body/div[2]/form/div[3]/div/div/div/div[2]/div[4]/div/div[1]/div/textarea\")\n",
        "                text_area.send_keys(cuerpo_mensaje_automatizado + Keys.TAB + Keys.ENTER)\n",
        "\n",
        "    else:\n",
        "        for mensaje_no_leido in mensajes_no_leidos:\n",
        "            mensaje_no_leido.click()\n",
        "            time.sleep(2)\n",
        "            text_area = driver.find_element(by=By.XPATH, value=\"/html/body/div[2]/form/div[3]/div/div/div/div[2]/div[4]/div/div[1]/div/textarea\")\n",
        "            text_area.send_keys(cuerpo_mensaje_automatizado + Keys.TAB + Keys.ENTER)\n"
      ],
      "metadata": {
        "id": "ffxxNioWwKaN"
      },
      "execution_count": null,
      "outputs": []
    },
    {
      "cell_type": "code",
      "source": [
        "driver.save_screenshot(\"screenshot_tusclases_2.png\")\n",
        "driver.refresh()\n",
        "time.sleep(2)\n",
        "driver.save_screenshot(\"screenshot_tusclases_refreshed.png\")"
      ],
      "metadata": {
        "colab": {
          "base_uri": "https://localhost:8080/"
        },
        "id": "L6D0toPTz4r4",
        "outputId": "635432de-5d40-4419-cdb5-917e81757cba"
      },
      "execution_count": null,
      "outputs": [
        {
          "output_type": "execute_result",
          "data": {
            "text/plain": [
              "True"
            ]
          },
          "metadata": {},
          "execution_count": 18
        }
      ]
    },
    {
      "cell_type": "code",
      "source": [
        ""
      ],
      "metadata": {
        "id": "bMxd_K31W5qy"
      },
      "execution_count": null,
      "outputs": []
    }
  ]
}